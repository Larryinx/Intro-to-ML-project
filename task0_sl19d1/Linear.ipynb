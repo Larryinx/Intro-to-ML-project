{
 "cells": [
  {
   "cell_type": "code",
   "execution_count": 3,
   "metadata": {},
   "outputs": [],
   "source": [
    "import sklearn.linear_model\n",
    "import pandas as pd\n",
    "import numpy as np\n",
    "\n",
    "# Load training and testing set\n",
    "df_train = pd.read_csv('train.csv', header=0, index_col=0)\n",
    "df_test = pd.read_csv('test.csv', header=0, index_col=0)\n",
    "\n",
    "# Process for modelling\n",
    "y = df_train['y']\n",
    "X = df_train.drop(['y'], axis=1)\n",
    "X_test = df_test"
   ]
  },
  {
   "cell_type": "code",
   "execution_count": 5,
   "metadata": {},
   "outputs": [
    {
     "data": {
      "text/plain": [
       "1.0"
      ]
     },
     "execution_count": 5,
     "metadata": {},
     "output_type": "execute_result"
    }
   ],
   "source": [
    "# Modelling using linear regression\n",
    "model = sklearn.linear_model.LinearRegression(n_jobs=-1,normalize=True)\n",
    "model.fit(X, y)\n",
    "\n",
    "# Make predictions and export to .csv\n",
    "predictions = model.predict(X_test)\n",
    "predictions_frame = pd.DataFrame(predictions, index=df_test.index, columns=[\"y\"])\n",
    "predictions_frame.to_csv('subb.csv', sep=\",\")"
   ]
  }
 ],
 "metadata": {
  "kernelspec": {
   "display_name": "base",
   "language": "python",
   "name": "python3"
  },
  "language_info": {
   "codemirror_mode": {
    "name": "ipython",
    "version": 3
   },
   "file_extension": ".py",
   "mimetype": "text/x-python",
   "name": "python",
   "nbconvert_exporter": "python",
   "pygments_lexer": "ipython3",
   "version": "3.8.5 (default, Sep  4 2020, 02:22:02) \n[Clang 10.0.0 ]"
  },
  "orig_nbformat": 4,
  "vscode": {
   "interpreter": {
    "hash": "810a9faa6f2a5c412495a4b545945d53b03def60d00db7e08240bdce3542af51"
   }
  }
 },
 "nbformat": 4,
 "nbformat_minor": 2
}
